{
  "nbformat": 4,
  "nbformat_minor": 0,
  "metadata": {
    "colab": {
      "provenance": []
    },
    "kernelspec": {
      "name": "python3",
      "display_name": "Python 3"
    },
    "language_info": {
      "name": "python"
    }
  },
  "cells": [
    {
      "cell_type": "code",
      "execution_count": null,
      "metadata": {
        "id": "L77Jcwg-FH5G"
      },
      "outputs": [],
      "source": [
        "# Jumana Amr\n",
        "# 2004235"
      ]
    },
    {
      "cell_type": "code",
      "source": [
        "import numpy as np\n",
        "import pandas as pd\n",
        "import matplotlib.pylab as plt\n"
      ],
      "metadata": {
        "id": "XgiE4g9KQ2Vb"
      },
      "execution_count": null,
      "outputs": []
    },
    {
      "cell_type": "code",
      "source": [
        "dataPoints =np.array([[3,5],[4,6],[2,8],[2,3],[1,4]])\n",
        "dataPoints"
      ],
      "metadata": {
        "colab": {
          "base_uri": "https://localhost:8080/"
        },
        "id": "X8Gr9MNjhOoH",
        "outputId": "a4f84b08-0dc0-4388-98e2-879c986ff931"
      },
      "execution_count": null,
      "outputs": [
        {
          "output_type": "execute_result",
          "data": {
            "text/plain": [
              "array([[3, 5],\n",
              "       [4, 6],\n",
              "       [2, 8],\n",
              "       [2, 3],\n",
              "       [1, 4]])"
            ]
          },
          "metadata": {},
          "execution_count": 20
        }
      ]
    },
    {
      "cell_type": "code",
      "source": [
        "clusters=np.array([[2,4],[1,7]])"
      ],
      "metadata": {
        "id": "2VNv2HmVhoBv"
      },
      "execution_count": null,
      "outputs": []
    },
    {
      "cell_type": "code",
      "source": [
        "def CalculateDistance(dataPoints,clusters):\n",
        "    # a 2d array with size len of datapoints * len of clusters\n",
        "    # np.linalg.norm calculates the euclidean distance between two points \n",
        "\n",
        "    return np.array([[ np.linalg.norm(i-j) for j in clusters] for i in dataPoints])\n",
        "\n"
      ],
      "metadata": {
        "id": "cwLiHdsVZV5M"
      },
      "execution_count": null,
      "outputs": []
    },
    {
      "cell_type": "code",
      "source": [
        "d=CalculateDistance(dataPoints,clusters)\n",
        "d"
      ],
      "metadata": {
        "colab": {
          "base_uri": "https://localhost:8080/"
        },
        "id": "hOC46-gEa5f1",
        "outputId": "56a59b29-e12d-497a-8a1c-44e8f47eb074"
      },
      "execution_count": null,
      "outputs": [
        {
          "output_type": "execute_result",
          "data": {
            "text/plain": [
              "array([[1.41421356, 2.82842712],\n",
              "       [2.82842712, 3.16227766],\n",
              "       [4.        , 1.41421356],\n",
              "       [1.        , 4.12310563],\n",
              "       [1.        , 3.        ]])"
            ]
          },
          "metadata": {},
          "execution_count": 23
        }
      ]
    },
    {
      "cell_type": "code",
      "source": [
        "def CalculateMembership(d,q):\n",
        "  # a 2D array with the same size of the calculated distances array\n",
        "  #this is an implementation of the Rnk where\n",
        "  # let distance between current datapoint and cluster = d\n",
        "  # 1/((sqrt(d11/dd11)+sqrt(d11/d12)) and so one based on the number of clusters) power 1/1-q\n",
        "   return np.array([[  1/pow((pow(d[i][j],2)/pow(d[i][0],2)+pow(d[i][j],2)/pow(d[i][1],2)),1/(q-1)) for j in range(0,len(d[0])) ]for i in range(0,len(d))])\n",
        "  \n",
        "   "
      ],
      "metadata": {
        "id": "1VL8r6T0h7kA"
      },
      "execution_count": null,
      "outputs": []
    },
    {
      "cell_type": "code",
      "source": [
        "q=2\n",
        "Rnk=CalculateMembership(d,q)\n",
        "Rnk"
      ],
      "metadata": {
        "colab": {
          "base_uri": "https://localhost:8080/"
        },
        "id": "ciarJ-KjR00c",
        "outputId": "db719115-4c35-42a6-b7ce-b350042af85a"
      },
      "execution_count": null,
      "outputs": [
        {
          "output_type": "execute_result",
          "data": {
            "text/plain": [
              "array([[0.8       , 0.2       ],\n",
              "       [0.55555556, 0.44444444],\n",
              "       [0.11111111, 0.88888889],\n",
              "       [0.94444444, 0.05555556],\n",
              "       [0.9       , 0.1       ]])"
            ]
          },
          "metadata": {},
          "execution_count": 25
        }
      ]
    },
    {
      "cell_type": "code",
      "source": [
        "def UpdateClusterMean(Rnk,dataPoints,q):\n",
        "  Ranks= np.sum(pow(Rnk,q), axis = 0)\n",
        "  # array that has summation of ranks power q * data point of all points and clusters\n",
        "  # this is the numerator of the equation of mu\n",
        "  num=np.array([[ ((Rnk[i][j]**q)*dataPoints[i]) for j in range(len(dataPoints[0]))] for i in range(len(dataPoints))])\n",
        "  # this is the denumerator of the equation where it is the summation of the probabilities of \n",
        "  # of belonging to a datapoint power q \n",
        "  denum= np.sum(num, axis = 0)\n",
        "  # the division of them is to get the new centers of the clusters\n",
        "  mu=np.array([ denum[i]/Ranks[i] for i in range(len(Ranks))])\n",
        "\n",
        "  return mu"
      ],
      "metadata": {
        "id": "FXwMV-zfh94F"
      },
      "execution_count": null,
      "outputs": []
    },
    {
      "cell_type": "code",
      "source": [
        "mu=UpdateClusterMean(Rnk,dataPoints,q)\n",
        "mu"
      ],
      "metadata": {
        "colab": {
          "base_uri": "https://localhost:8080/"
        },
        "id": "144dVwUPzZAR",
        "outputId": "d43ef67f-3fc2-49c6-de3c-d71c1bc167d6"
      },
      "execution_count": null,
      "outputs": [
        {
          "output_type": "execute_result",
          "data": {
            "text/plain": [
              "array([[2.16796477, 4.15572554],\n",
              "       [2.4084223 , 7.45183867]])"
            ]
          },
          "metadata": {},
          "execution_count": 27
        }
      ]
    },
    {
      "cell_type": "code",
      "source": [
        "def CalculateObjectiveFunc(dataPoints,Rnk,mu,q,lmbda):\n",
        "   s1=0\n",
        "   s2=0\n",
        "   # Ill seperate the objective function into two parts and add them when the loop is done\n",
        "   #  to calculate s1 we will get the distance between the clusters and dataPoints\n",
        "   # then we will multiply the rank by the calculated distance between the current \n",
        "   # data point and the current cluster\n",
        "   # to calculate s2 we will calculate the rank of each point then subtract by 1\n",
        "   # then we will multiply it by lambda\n",
        "\n",
        "   d=CalculateDistance(dataPoints,clusters)\n",
        "   for i in range(len(dataPoints)):\n",
        "     for j in range(len(clusters)):\n",
        "       s1=s1+(pow(Rnk[i][j],q)*pow(d[i][j],2))\n",
        "       s2=s2+Rnk[i][j]\n",
        "\n",
        "     s2=s2-1     \n",
        "\n",
        "   return s1+s2\n"
      ],
      "metadata": {
        "id": "c9CTk6miiBEL"
      },
      "execution_count": null,
      "outputs": []
    },
    {
      "cell_type": "code",
      "source": [
        "lmbda=1\n",
        "J=CalculateObjectiveFunc(dataPoints,Rnk,mu,q,lmbda)\n",
        "J"
      ],
      "metadata": {
        "colab": {
          "base_uri": "https://localhost:8080/"
        },
        "id": "CgUSEuo70zLC",
        "outputId": "4deed8dc-2913-4386-f040-59d815aa28d4"
      },
      "execution_count": null,
      "outputs": [
        {
          "output_type": "execute_result",
          "data": {
            "text/plain": [
              "9.666666666666668"
            ]
          },
          "metadata": {},
          "execution_count": 29
        }
      ]
    },
    {
      "cell_type": "code",
      "source": [
        "def ReachConvergence(dataPoints,rnk,mu,q,lmbda):\n",
        "  oldJ=0\n",
        "  newJ=0\n",
        "  # we will start with the first J \n",
        "  # we will calculate the distance, membership and centers\n",
        "  # if old J- new J less than 0.01\n",
        "  # we will stop\n",
        "  # if not then we will update the old J and create a new J to iterate on\n",
        "  while(True):\n",
        "    d=CalculateDistance(dataPoints,mu)\n",
        "    rnk=CalculateMembership(d,q)\n",
        "    mu=UpdateClusterMean(rnk,dataPoints,q)\n",
        "    oldJ=CalculateObjectiveFunc(dataPoints,rnk,mu,q,lmbda)\n",
        "    if abs(oldJ-newJ)<0.01 :\n",
        "      break\n",
        "    else: newJ=oldJ\n",
        "  return mu,rnk\n",
        "\n"
      ],
      "metadata": {
        "id": "zVliFooOiE2l"
      },
      "execution_count": null,
      "outputs": []
    },
    {
      "cell_type": "code",
      "source": [
        "conv=ReachConvergence(dataPoints,Rnk,mu,q,lmbda)\n",
        "conv"
      ],
      "metadata": {
        "id": "L0VKmCH8Z9wj",
        "colab": {
          "base_uri": "https://localhost:8080/"
        },
        "outputId": "2a956f4c-c186-45b2-d93a-03357d2839ef"
      },
      "execution_count": null,
      "outputs": [
        {
          "output_type": "execute_result",
          "data": {
            "text/plain": [
              "(array([[1.65445038, 3.68532107],\n",
              "        [3.02210542, 6.61444499]]), array([[0.42456695, 0.57543305],\n",
              "        [0.10955025, 0.89044975],\n",
              "        [0.13649584, 0.86350416],\n",
              "        [0.95993201, 0.04006799],\n",
              "        [0.95393597, 0.04606403]]), 14.69366498585638)"
            ]
          },
          "metadata": {},
          "execution_count": 31
        }
      ]
    },
    {
      "cell_type": "code",
      "source": [
        "J=[]\n",
        "\n",
        "for i in range(2,10):\n",
        "\n",
        "  rnk=CalculateMembership(d,i)\n",
        "  J.append(CalculateObjectiveFunc(dataPoints,rnk,mu,i,lmbda))"
      ],
      "metadata": {
        "id": "XWdcUCufwIN6"
      },
      "execution_count": null,
      "outputs": []
    },
    {
      "cell_type": "code",
      "source": [
        "q=[]\n",
        "for i in range(2,10):\n",
        " q.append(i)"
      ],
      "metadata": {
        "id": "0bqELKAH1AwX"
      },
      "execution_count": null,
      "outputs": []
    },
    {
      "cell_type": "code",
      "source": [
        "plt.plot(q,J)\n",
        "plt.title('Objective function J vs Q')\n",
        "plt.xlabel('Q')\n",
        "plt.ylabel('J')\n",
        "plt.show()\n"
      ],
      "metadata": {
        "colab": {
          "base_uri": "https://localhost:8080/",
          "height": 295
        },
        "id": "ra1m_hLYz9Q0",
        "outputId": "886081b0-6457-4fdd-e693-650888f2e02c"
      },
      "execution_count": null,
      "outputs": [
        {
          "output_type": "display_data",
          "data": {
            "text/plain": [
              "<Figure size 432x288 with 1 Axes>"
            ],
            "image/png": "[encoded data removed]"
          },
          "metadata": {
            "needs_background": "light"
          }
        }
      ]
    }
  ]
}